{
 "cells": [
  {
   "cell_type": "code",
   "execution_count": 1,
   "id": "ca133c48",
   "metadata": {},
   "outputs": [],
   "source": [
    "import numpy as np\n",
    "from scipy import optimize\n",
    "\n",
    "import seaborn as sns\n",
    "import matplotlib.pyplot as plt"
   ]
  },
  {
   "cell_type": "markdown",
   "id": "6e6775ba",
   "metadata": {},
   "source": [
    "## Common Settings"
   ]
  },
  {
   "cell_type": "markdown",
   "id": "37466ac8",
   "metadata": {},
   "source": [
    "$p$ predictors $\\sim\\mathcal{N}(\\textbf{0},S)$ where $S=(s_{ij}),s_{ij}=\\rho^{|i-j|}$\n",
    "\n",
    "true coefficents $\\beta_j\\sim\\mathcal{N}(0,0.5)$"
   ]
  },
  {
   "cell_type": "code",
   "execution_count": 2,
   "id": "9af6257a",
   "metadata": {},
   "outputs": [],
   "source": [
    "n = 50 # design a), b), d), e), g)\n",
    "# n = 100 # design c), f)\n",
    "p = 2000"
   ]
  },
  {
   "cell_type": "code",
   "execution_count": 3,
   "id": "a5768f39",
   "metadata": {},
   "outputs": [],
   "source": [
    "# rho = 0.6 # designa a), c), e), f)\n",
    "# rho = 0.5 # design b)\n",
    "rho = 0 # design d), g)\n",
    "S = np.zeros((p,p))\n",
    "for i in range(p):\n",
    "    for j in range(p):\n",
    "        S[i][j] = pow(rho,abs(i-j))"
   ]
  },
  {
   "cell_type": "code",
   "execution_count": 4,
   "id": "dde5a979",
   "metadata": {},
   "outputs": [],
   "source": [
    "true_regressors = [40*(j-1) for j in range(1,51)]"
   ]
  },
  {
   "cell_type": "code",
   "execution_count": 5,
   "id": "fa531707",
   "metadata": {},
   "outputs": [],
   "source": [
    "def calc_mu_tilda(w):\n",
    "    H_tilda_w = np.zeros((n,n))\n",
    "    for k in range(M):\n",
    "        H_tilda_w += H_tilda[k]*w[k]\n",
    "    mu_tilda = np.dot(H_tilda_w,y)\n",
    "    \n",
    "    return mu_tilda\n",
    "\n",
    "def calc_mu_tilda2(w):\n",
    "    H_tilda_w2 = np.zeros((n,n))\n",
    "    for k in range(M2):\n",
    "        H_tilda_w2 += H_tilda2[k]*w[k]\n",
    "    mu_tilda2 = np.dot(H_tilda_w2,y)\n",
    "    \n",
    "    return mu_tilda2"
   ]
  },
  {
   "cell_type": "code",
   "execution_count": 6,
   "id": "f298b069",
   "metadata": {},
   "outputs": [],
   "source": [
    "CV = lambda w: np.dot((y-calc_mu_tilda(w)).T,y-calc_mu_tilda(w))\n",
    "CV2 = lambda w: np.dot((y-calc_mu_tilda2(w)).T,y-calc_mu_tilda2(w))"
   ]
  },
  {
   "cell_type": "markdown",
   "id": "e258eef5",
   "metadata": {},
   "source": [
    "### MCV1"
   ]
  },
  {
   "cell_type": "code",
   "execution_count": 7,
   "id": "0373f217",
   "metadata": {},
   "outputs": [
    {
     "name": "stdout",
     "output_type": "stream",
     "text": [
      "[0.297665   0.35395743 0.22057813 0.12660305 0.10352917 0.2385996\n",
      " 0.23554003 0.29483343 0.06390946 0.        ]\n",
      "[ 0.30765918  0.35654428  0.20787961  0.13763922  0.11601147  0.22998848\n",
      "  0.24159526  0.29253194  0.08066136 -0.05757117]\n",
      "[0.41711071 0.25090961 0.37035617 0.3980514  0.63825134 0.31602014\n",
      " 0.46247994 0.59391348]\n",
      "[0.41710612 0.25091786 0.37035832 0.3980469  0.63824866 0.31601423\n",
      " 0.46247733 0.59391567]\n",
      "------\n",
      "[0.22568291 0.23159278 0.21285674 0.14753616 0.23470678 0.03091954\n",
      " 0.08665187 0.20477885 0.20450482 0.1569056 ]\n",
      "[0.22568292 0.23159284 0.21285676 0.14753627 0.23470647 0.0309197\n",
      " 0.08665186 0.20477862 0.2045049  0.15690534]\n",
      "[0.54497741 0.         0.36762852 0.28227652 0.3424083  0.35370237\n",
      " 0.32588256 0.15957296]\n",
      "[ 0.55488022 -0.04453854  0.37650081  0.28443652  0.34584878  0.36592269\n",
      "  0.32449918  0.16993522]\n",
      "------\n",
      "[0.33074172 0.1474564  0.39350954 0.12861422 0.13144158 0.08870146\n",
      " 0.1955331  0.16617942 0.         0.14560469]\n",
      "[ 0.3302106   0.14937374  0.38723043  0.1315746   0.13457655  0.09643917\n",
      "  0.19574067  0.17147806 -0.01554165  0.14951984]\n",
      "[0.43375567 0.2502499  0.339129   0.42269497 0.31610195 0.39683331\n",
      " 0.2517028  0.28982049]\n",
      "[0.43375457 0.25024915 0.33913268 0.42269446 0.31610587 0.39683286\n",
      " 0.25170132 0.28981766]\n",
      "------\n",
      "[0.35189858 0.26074296 0.13117123 0.24760559 0.18230323 0.20674098\n",
      " 0.07257109 0.04257254 0.19173907 0.11984678]\n",
      "[0.35189838 0.260743   0.1311716  0.24760582 0.18230306 0.20674122\n",
      " 0.07257045 0.04257233 0.19173904 0.11984686]\n",
      "[0.73934403 0.47798202 0.30950192 0.24078698 0.3016959  0.28667626\n",
      " 0.34105895 0.50222229]\n",
      "[0.73934409 0.47798329 0.30950327 0.24078763 0.30169416 0.28667472\n",
      " 0.34105936 0.50222207]\n",
      "------\n",
      "[0.33975235 0.07560172 0.22389062 0.20678393 0.14693247 0.26136817\n",
      " 0.         0.22306801 0.         0.27269976]\n",
      "[ 0.3586724   0.02250601  0.25932722  0.20560677  0.18949988  0.26966765\n",
      " -0.02817273  0.30126848 -0.17036643  0.29960673]\n",
      "[0.42159325 0.33436596 0.38809716 0.37898941 0.35963447 0.18801529\n",
      " 0.33258912 0.10128579]\n",
      "[0.42159186 0.33436616 0.3880963  0.37899061 0.35963545 0.18801582\n",
      " 0.33258996 0.10128576]\n",
      "------\n"
     ]
    }
   ],
   "source": [
    "msel1 = np.zeros(100)\n",
    "msel2 = np.zeros(100)\n",
    "msel3 = np.zeros(100)\n",
    "msel4 = np.zeros(100)\n",
    "d = np.zeros(100)\n",
    "d2 = np.zeros(100)\n",
    "for itr in range(100):\n",
    "    # regressors\n",
    "    X = np.random.multivariate_normal(np.zeros(p),S,n)\n",
    "    \n",
    "    # design b)\n",
    "#     s_alpha = np.zeros(n)\n",
    "#     for i in range(n):\n",
    "#         tmp_sum = 0\n",
    "#         for k in true_regressors:\n",
    "#             tmp_sum += abs(X[i][k])\n",
    "#         s_alpha[i] = tmp_sum/50\n",
    "    \n",
    "#     beta = np.zeros(p)\n",
    "#     for i in range(50):\n",
    "#         rand = np.random.uniform(0,1)\n",
    "\n",
    "#         if rand <= 0.7:\n",
    "#             beta[true_regressors[i]] = s_alpha[i]*np.random.normal(0,0.8)\n",
    "#         else:\n",
    "#             beta[true_regressors[i]] = s_alpha[i]*np.random.standard_t(3)\n",
    "\n",
    "#     epsilon = np.zeros(n)\n",
    "#     for i in range(n):\n",
    "#         rand = np.random.uniform(0,1)\n",
    "        \n",
    "#         if rand <= 0.5:\n",
    "#             epsilon[i] = s_alpha[i]*np.random.normal(0,1)\n",
    "#         else:\n",
    "#             epsilon[i] = s_alpha[i]*np.random.standard_t(5)\n",
    "\n",
    "    # design a), c), d), e), f), g)\n",
    "    beta = np.zeros(p)\n",
    "    for i in true_regressors:\n",
    "        beta[i] = np.random.normal(0,0.5)\n",
    "        \n",
    "#     epsilon = np.random.normal(0,0.2,n) # design a), c), d)\n",
    "    \n",
    "    # design e), f), g)\n",
    "    epsilon = np.zeros(n)\n",
    "    for i in range(n):\n",
    "        epsilon[i] = np.random.normal(0,np.random.uniform(2.1,2.3))\n",
    "    \n",
    "    # response\n",
    "    true_mu = np.dot(X,beta)\n",
    "    y = true_mu+epsilon\n",
    "    \n",
    "    # estimated marginal correlation btw predictor and response and sort\n",
    "    r = np.dot(X.T,y)/n\n",
    "    sorted_indices = np.argsort(r)[::-1]\n",
    "    \n",
    "    # MCV1\n",
    "    M = 10 # number of candidate models\n",
    "    nh = 10 # number of regressors in each model\n",
    "    H = np.array([np.dot(np.dot(X[:,sorted_indices[int(k*nh):int((k+1)*nh+1)]],\n",
    "                                np.linalg.inv(np.dot(X[:,sorted_indices[int(k*nh):int((k+1)*nh+1)]].T,\n",
    "                                                     X[:,sorted_indices[int(k*nh):int((k+1)*nh+1)]]))),\n",
    "                                                     X[:,sorted_indices[int(k*nh):int((k+1)*nh+1)]].T) \n",
    "                  for k in range(M)]) # hat matrix\n",
    "    \n",
    "    D = np.array([np.diag(1/(1-np.diag(H[k]))) for k in range(M)])\n",
    "    H_tilda = np.array([np.dot(D[k],H[k]-np.eye(n))+np.eye(n) for k in range(M)]) # smoothing matrix\n",
    "    \n",
    "    bnds = [[0,1] for k in range(M)]\n",
    "    wt = optimize.minimize(CV,np.random.uniform(0,1,M),bounds=bnds)\n",
    "    wt2 = optimize.minimize(CV,np.random.uniform(0,1,M))\n",
    "    \n",
    "    d[itr] = sum([wt.x[i]-wt2.x[i] for i in range(len(wt.x))])\n",
    "    \n",
    "    estimated_mu1 = np.dot(sum([wt.x[i]*H[i] for i in range(len(wt.x))]),y)\n",
    "    estimated_mu2 = np.dot(sum([wt2.x[i]*H[i] for i in range(len(wt2.x))]),y)\n",
    "    mse1 = np.mean((true_mu-estimated_mu1)**2)\n",
    "    mse2 = np.mean((true_mu-estimated_mu2)**2)\n",
    "    \n",
    "    msel1[itr] = mse1\n",
    "    msel2[itr] = mse2\n",
    "    \n",
    "    # MCV2\n",
    "    M2 = 8 # number of candidate models\n",
    "    h2 = [0.05*j for j in range(1,9)]\n",
    "    nh2 = [-1,*[n*h2[k] for k in range(len(h2))]] # number of regressors in each model\n",
    "    H2 = np.array([np.dot(np.dot(X[:,sorted_indices[int(nh2[k]+1):int(nh2[k+1]+1)]],\n",
    "                                np.linalg.inv(np.dot(X[:,sorted_indices[int(nh2[k]+1):int(nh2[k+1]+1)]].T,\n",
    "                                                     X[:,sorted_indices[int(nh2[k]+1):int(nh2[k+1]+1)]]))),\n",
    "                                                     X[:,sorted_indices[int(nh2[k]+1):int(nh2[k+1]+1)]].T) \n",
    "                  for k in range(M2)]) # hat matrix\n",
    "    \n",
    "    D2 = np.array([np.diag(1/(1-np.diag(H2[k]))) for k in range(M2)])\n",
    "    H_tilda2 = np.array([np.dot(D2[k],H2[k]-np.eye(n))+np.eye(n) for k in range(M2)]) # smoothing matrix\n",
    "    \n",
    "    bnds2 = [[0,1] for k in range(M2)]\n",
    "    wt3 = optimize.minimize(CV2,np.random.uniform(0,1,M2),bounds=bnds2)\n",
    "    wt4 = optimize.minimize(CV2,np.random.uniform(0,1,M2))\n",
    "    \n",
    "    d2[itr] = sum([wt3.x[i]-wt4.x[i] for i in range(len(wt3.x))])\n",
    "    \n",
    "    estimated_mu3 = np.dot(sum([wt3.x[i]*H2[i] for i in range(len(wt3.x))]),y)\n",
    "    estimated_mu4 = np.dot(sum([wt4.x[i]*H2[i] for i in range(len(wt4.x))]),y)\n",
    "    mse3 = np.mean((true_mu-estimated_mu3)**2)\n",
    "    mse4 = np.mean((true_mu-estimated_mu4)**2)\n",
    "    \n",
    "    msel3[itr] = mse3\n",
    "    msel4[itr] = mse4\n",
    "    \n",
    "    \n",
    "    if itr < 5:\n",
    "        print(wt.x)\n",
    "        print(wt2.x)\n",
    "        print(wt3.x)\n",
    "        print(wt4.x)\n",
    "        print('------')\n"
   ]
  },
  {
   "cell_type": "code",
   "execution_count": 8,
   "id": "bffc9531",
   "metadata": {},
   "outputs": [
    {
     "data": {
      "text/plain": [
       "<AxesSubplot:>"
      ]
     },
     "execution_count": 8,
     "metadata": {},
     "output_type": "execute_result"
    },
    {
     "data": {
      "image/png": "[encoded data removed]",
      "text/plain": [
       "<Figure size 432x288 with 1 Axes>"
      ]
     },
     "metadata": {
      "needs_background": "light"
     },
     "output_type": "display_data"
    }
   ],
   "source": [
    "sns.boxplot(data=[msel1, msel2, msel3, msel4],showmeans=True,)"
   ]
  },
  {
   "cell_type": "code",
   "execution_count": 9,
   "id": "74a0284a",
   "metadata": {},
   "outputs": [
    {
     "name": "stdout",
     "output_type": "stream",
     "text": [
      "0.009986631374160872 0.007173934491275776 0.02678280353041137 -3.195494981479559\n"
     ]
    }
   ],
   "source": [
    "print(np.mean(d), np.mean(d2), np.mean([msel1[i]-msel2[i] for i in range(100)]),\n",
    "      np.mean([msel3[3]-msel4[i] for i in range(100)]))"
   ]
  },
  {
   "cell_type": "code",
   "execution_count": 10,
   "id": "3966d683",
   "metadata": {},
   "outputs": [],
   "source": [
    "# def remove_outliers(arr):\n",
    "#     q75,q25 = np.percentile(arr,[75,25])\n",
    "#     intr_qr = q75-q25\n",
    "\n",
    "#     max = q75+(1.5*intr_qr)\n",
    "#     min = q25-(1.5*intr_qr)\n",
    "\n",
    "#     arr[arr>max]=0\n",
    "#     arr[arr<min]=0\n",
    "    \n",
    "#     return arr\n",
    "\n",
    "# msel1 = remove_outliers(msel1)\n",
    "# msel2 = remove_outliers(msel2)\n",
    "# msel3 = remove_outliers(msel3)\n",
    "# msel4 = remove_outliers(msel4)\n",
    "\n",
    "# sns.boxplot(data=[msel1, msel2, msel3, msel4],showmeans=True,)"
   ]
  }
 ],
 "metadata": {
  "kernelspec": {
   "display_name": "Python 3 (ipykernel)",
   "language": "python",
   "name": "python3"
  },
  "language_info": {
   "codemirror_mode": {
    "name": "ipython",
    "version": 3
   },
   "file_extension": ".py",
   "mimetype": "text/x-python",
   "name": "python",
   "nbconvert_exporter": "python",
   "pygments_lexer": "ipython3",
   "version": "3.9.12"
  }
 },
 "nbformat": 4,
 "nbformat_minor": 5
}
